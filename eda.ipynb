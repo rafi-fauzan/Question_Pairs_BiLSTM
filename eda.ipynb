{
 "cells": [
  {
   "cell_type": "code",
   "execution_count": null,
   "metadata": {
    "colab": {
     "base_uri": "https://localhost:8080/"
    },
    "executionInfo": {
     "elapsed": 1055,
     "status": "ok",
     "timestamp": 1616478418651,
     "user": {
      "displayName": "testaja test",
      "photoUrl": "",
      "userId": "08960270030243762476"
     },
     "user_tz": -420
    },
    "id": "22LcD6YljGS7",
    "outputId": "502e3350-cb57-4654-f23d-a4500aa6b977"
   },
   "outputs": [],
   "source": [
    "from google.colab import drive\n",
    "drive.mount('/content/drive')\n",
    "%cd /content/drive/MyDrive/Question_Pairs_BiLSTM"
   ]
  },
  {
   "cell_type": "code",
   "execution_count": null,
   "metadata": {
    "executionInfo": {
     "elapsed": 1780,
     "status": "ok",
     "timestamp": 1616478419386,
     "user": {
      "displayName": "testaja test",
      "photoUrl": "",
      "userId": "08960270030243762476"
     },
     "user_tz": -420
    },
    "id": "AuuwzXE8jGS8"
   },
   "outputs": [],
   "source": [
    "# import dependencies\n",
    "import pandas as pd\n",
    "import seaborn as sns\n",
    "import numpy as np\n",
    "from sklearn.model_selection import train_test_split"
   ]
  },
  {
   "cell_type": "code",
   "execution_count": null,
   "metadata": {
    "executionInfo": {
     "elapsed": 3134,
     "status": "ok",
     "timestamp": 1616478420744,
     "user": {
      "displayName": "testaja test",
      "photoUrl": "",
      "userId": "08960270030243762476"
     },
     "user_tz": -420
    },
    "id": "VINjistFjGS-"
   },
   "outputs": [],
   "source": [
    "df = pd.read_csv('data/dataset/train.csv')"
   ]
  },
  {
   "cell_type": "code",
   "execution_count": null,
   "metadata": {
    "executionInfo": {
     "elapsed": 3130,
     "status": "ok",
     "timestamp": 1616478420745,
     "user": {
      "displayName": "testaja test",
      "photoUrl": "",
      "userId": "08960270030243762476"
     },
     "user_tz": -420
    },
    "id": "p43sefZgjGS-"
   },
   "outputs": [],
   "source": [
    "df = df.iloc[:,3:]"
   ]
  },
  {
   "cell_type": "code",
   "execution_count": null,
   "metadata": {
    "colab": {
     "base_uri": "https://localhost:8080/",
     "height": 286
    },
    "executionInfo": {
     "elapsed": 3134,
     "status": "ok",
     "timestamp": 1616478420756,
     "user": {
      "displayName": "testaja test",
      "photoUrl": "",
      "userId": "08960270030243762476"
     },
     "user_tz": -420
    },
    "id": "lxNWSA4mjGS_",
    "outputId": "57267e8c-e15b-44d4-c86a-18c0dd0d42c9"
   },
   "outputs": [],
   "source": [
    "df.head()"
   ]
  },
  {
   "cell_type": "code",
   "execution_count": null,
   "metadata": {
    "colab": {
     "base_uri": "https://localhost:8080/",
     "height": 235
    },
    "executionInfo": {
     "elapsed": 3125,
     "status": "ok",
     "timestamp": 1616478420757,
     "user": {
      "displayName": "testaja test",
      "photoUrl": "",
      "userId": "08960270030243762476"
     },
     "user_tz": -420
    },
    "id": "GPE0ADmLjGTB",
    "outputId": "87b8638d-c29f-4be6-b23c-fbd9dfda10de"
   },
   "outputs": [],
   "source": [
    "df.tail()"
   ]
  },
  {
   "cell_type": "code",
   "execution_count": null,
   "metadata": {
    "colab": {
     "base_uri": "https://localhost:8080/"
    },
    "executionInfo": {
     "elapsed": 3119,
     "status": "ok",
     "timestamp": 1616478420758,
     "user": {
      "displayName": "testaja test",
      "photoUrl": "",
      "userId": "08960270030243762476"
     },
     "user_tz": -420
    },
    "id": "l03Oq9L1jGTB",
    "outputId": "7e63de9b-39d8-41ad-d690-21f3d9edbb99"
   },
   "outputs": [],
   "source": [
    "print(f'Null data: \\n{df.isnull().sum()}\\n')\n",
    "print('Which index is null: \\n{}'.format(np.where(df.isnull())))"
   ]
  },
  {
   "cell_type": "code",
   "execution_count": null,
   "metadata": {
    "executionInfo": {
     "elapsed": 3826,
     "status": "ok",
     "timestamp": 1616478421471,
     "user": {
      "displayName": "testaja test",
      "photoUrl": "",
      "userId": "08960270030243762476"
     },
     "user_tz": -420
    },
    "id": "8nYKIE1vjGTC"
   },
   "outputs": [],
   "source": [
    "df = df.dropna()\n",
    "df.reset_index(inplace=True, drop=True)"
   ]
  },
  {
   "cell_type": "code",
   "execution_count": null,
   "metadata": {
    "colab": {
     "base_uri": "https://localhost:8080/"
    },
    "executionInfo": {
     "elapsed": 3820,
     "status": "ok",
     "timestamp": 1616478421473,
     "user": {
      "displayName": "testaja test",
      "photoUrl": "",
      "userId": "08960270030243762476"
     },
     "user_tz": -420
    },
    "id": "0UtEchkJjGTC",
    "outputId": "8fca7107-221e-48c5-d01d-2c4925022a11"
   },
   "outputs": [],
   "source": [
    "print(f'Null data: \\n{df.isnull().sum()}\\n')\n",
    "print('Which index is null: \\n{}'.format(np.where(df.isnull())))"
   ]
  },
  {
   "cell_type": "code",
   "execution_count": null,
   "metadata": {
    "colab": {
     "base_uri": "https://localhost:8080/"
    },
    "executionInfo": {
     "elapsed": 3814,
     "status": "ok",
     "timestamp": 1616478421474,
     "user": {
      "displayName": "testaja test",
      "photoUrl": "",
      "userId": "08960270030243762476"
     },
     "user_tz": -420
    },
    "id": "Ig0N6NvTjGTD",
    "outputId": "1fcd8492-faf9-4e46-8a27-e255ca830b7e"
   },
   "outputs": [],
   "source": [
    "print(f'Total data: \\n{len(df)}\\n')"
   ]
  },
  {
   "cell_type": "code",
   "execution_count": null,
   "metadata": {
    "colab": {
     "base_uri": "https://localhost:8080/"
    },
    "executionInfo": {
     "elapsed": 3809,
     "status": "ok",
     "timestamp": 1616478421475,
     "user": {
      "displayName": "testaja test",
      "photoUrl": "",
      "userId": "08960270030243762476"
     },
     "user_tz": -420
    },
    "id": "6DW867n1jGTD",
    "outputId": "583d878a-ddf5-4672-93cd-a408310915c2"
   },
   "outputs": [],
   "source": [
    "print(f'Total positive data (1): \\n{df.is_duplicate.value_counts()[1]}\\n')\n",
    "print(f'Total negative data (0): \\n{df.is_duplicate.value_counts()[0]}\\n')"
   ]
  },
  {
   "cell_type": "code",
   "execution_count": null,
   "metadata": {
    "colab": {
     "base_uri": "https://localhost:8080/",
     "height": 367
    },
    "executionInfo": {
     "elapsed": 3803,
     "status": "ok",
     "timestamp": 1616478421476,
     "user": {
      "displayName": "testaja test",
      "photoUrl": "",
      "userId": "08960270030243762476"
     },
     "user_tz": -420
    },
    "id": "xyWce5zJjGTD",
    "outputId": "9af44113-7c47-4a8e-bf6f-ad8217c009e2"
   },
   "outputs": [],
   "source": [
    "ax = sns.countplot(df.is_duplicate)\n",
    "ax.set_xticklabels(['not duplicate', 'duplicate'], fontsize=10)\n",
    "ax.set_title('Dataset distribution')"
   ]
  },
  {
   "cell_type": "code",
   "execution_count": null,
   "metadata": {
    "colab": {
     "base_uri": "https://localhost:8080/"
    },
    "executionInfo": {
     "elapsed": 4110,
     "status": "ok",
     "timestamp": 1616478421791,
     "user": {
      "displayName": "testaja test",
      "photoUrl": "",
      "userId": "08960270030243762476"
     },
     "user_tz": -420
    },
    "id": "ziR9YHl-jGTE",
    "outputId": "93ab31cd-d83e-4a06-f0ab-9cc58a7da326"
   },
   "outputs": [],
   "source": [
    "print(f'The negative data is {df.is_duplicate.value_counts()[0]/len(df)*100}% of the entire dataset')\n",
    "print(f'The positive data is {df.is_duplicate.value_counts()[1]/len(df)*100}% of the entire dataset')"
   ]
  },
  {
   "cell_type": "code",
   "execution_count": null,
   "metadata": {
    "colab": {
     "base_uri": "https://localhost:8080/"
    },
    "executionInfo": {
     "elapsed": 4104,
     "status": "ok",
     "timestamp": 1616478421791,
     "user": {
      "displayName": "testaja test",
      "photoUrl": "",
      "userId": "08960270030243762476"
     },
     "user_tz": -420
    },
    "id": "eYuX6ISmjGTF",
    "outputId": "659d9c6a-4bef-4dde-e299-b6a57ebb6da7"
   },
   "outputs": [],
   "source": [
    "for i in df[df[\"is_duplicate\"] == 0].index[:5]:\n",
    "  print(df.question1[i], '|', df.question2[i], '|', df.is_duplicate[i])\n",
    "  print('===============')"
   ]
  },
  {
   "cell_type": "code",
   "execution_count": null,
   "metadata": {
    "colab": {
     "base_uri": "https://localhost:8080/"
    },
    "executionInfo": {
     "elapsed": 4098,
     "status": "ok",
     "timestamp": 1616478421792,
     "user": {
      "displayName": "testaja test",
      "photoUrl": "",
      "userId": "08960270030243762476"
     },
     "user_tz": -420
    },
    "id": "R02_re-pjGTF",
    "outputId": "33f2a6e9-325d-4bd4-c723-8bb092338308"
   },
   "outputs": [],
   "source": [
    "for i in df[df[\"is_duplicate\"] == 1].index[:5]:\n",
    "  print(df.question1[i], '|', df.question2[i], '|', df.is_duplicate[i])\n",
    "  print('===============')"
   ]
  },
  {
   "cell_type": "code",
   "execution_count": null,
   "metadata": {
    "executionInfo": {
     "elapsed": 4087,
     "status": "ok",
     "timestamp": 1616478421793,
     "user": {
      "displayName": "testaja test",
      "photoUrl": "",
      "userId": "08960270030243762476"
     },
     "user_tz": -420
    },
    "id": "jjqGjOXjjGTF"
   },
   "outputs": [],
   "source": [
    "# df.question1.str.len().describe()\n",
    "# df.question2.str.len().describe()"
   ]
  },
  {
   "cell_type": "code",
   "execution_count": null,
   "metadata": {
    "executionInfo": {
     "elapsed": 4077,
     "status": "ok",
     "timestamp": 1616478421793,
     "user": {
      "displayName": "testaja test",
      "photoUrl": "",
      "userId": "08960270030243762476"
     },
     "user_tz": -420
    },
    "id": "ALkHhR6lm4Di"
   },
   "outputs": [],
   "source": [
    "# train - validation split\n",
    "data_train, data_val = train_test_split(df, test_size = 0.2, random_state = 42)"
   ]
  },
  {
   "cell_type": "code",
   "execution_count": null,
   "metadata": {
    "executionInfo": {
     "elapsed": 6407,
     "status": "ok",
     "timestamp": 1616478424132,
     "user": {
      "displayName": "testaja test",
      "photoUrl": "",
      "userId": "08960270030243762476"
     },
     "user_tz": -420
    },
    "id": "HkS7GEFwnEyL"
   },
   "outputs": [],
   "source": [
    "data_train.to_csv('data/train_dataset.csv', index=False)\n",
    "data_val.to_csv('data/val_dataset.csv', index=False)"
   ]
  }
 ],
 "metadata": {
  "colab": {
   "collapsed_sections": [],
   "name": "question_pairs_bilstm_eda.ipynb",
   "provenance": []
  },
  "kernelspec": {
   "display_name": "Python 3",
   "language": "python",
   "name": "python3"
  },
  "language_info": {
   "codemirror_mode": {
    "name": "ipython",
    "version": 3
   },
   "file_extension": ".py",
   "mimetype": "text/x-python",
   "name": "python",
   "nbconvert_exporter": "python",
   "pygments_lexer": "ipython3",
   "version": "3.7.7"
  }
 },
 "nbformat": 4,
 "nbformat_minor": 1
}
