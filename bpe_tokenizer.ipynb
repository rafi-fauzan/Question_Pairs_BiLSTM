{
 "metadata": {
  "language_info": {
   "codemirror_mode": {
    "name": "ipython",
    "version": 3
   },
   "file_extension": ".py",
   "mimetype": "text/x-python",
   "name": "python",
   "nbconvert_exporter": "python",
   "pygments_lexer": "ipython3",
   "version": "3.7.7-final"
  },
  "orig_nbformat": 2,
  "kernelspec": {
   "name": "python3",
   "display_name": "Python 3.7.7 64-bit ('pytorch_deeplearning': conda)",
   "metadata": {
    "interpreter": {
     "hash": "2bcd7ec7ba57b04cf90fee3838748171677195bfc714753350d4adb3113cc5c7"
    }
   }
  }
 },
 "nbformat": 4,
 "nbformat_minor": 2,
 "cells": [
  {
   "cell_type": "code",
   "execution_count": 26,
   "metadata": {},
   "outputs": [],
   "source": [
    "import pandas as pd\n",
    "import numpy as np\n",
    "from tokenizers import BertWordPieceTokenizer\n",
    "import os"
   ]
  },
  {
   "cell_type": "code",
   "execution_count": 7,
   "metadata": {},
   "outputs": [],
   "source": [
    "df = pd.read_csv('dataset/train.csv')"
   ]
  },
  {
   "cell_type": "code",
   "execution_count": 8,
   "metadata": {},
   "outputs": [
    {
     "output_type": "stream",
     "name": "stdout",
     "text": [
      "Null data: \nid              0\nqid1            0\nqid2            0\nquestion1       1\nquestion2       2\nis_duplicate    0\ndtype: int64\n\nWhich index is null: \n(array([105780, 201841, 363362], dtype=int64), array([4, 4, 3], dtype=int64))\n"
     ]
    }
   ],
   "source": [
    "print(f'Null data: \\n{df.isnull().sum()}\\n')\n",
    "print('Which index is null: \\n{}'.format(np.where(df.isnull())))"
   ]
  },
  {
   "cell_type": "code",
   "execution_count": 9,
   "metadata": {},
   "outputs": [],
   "source": [
    "df = df.dropna()\n",
    "df.reset_index(inplace=True, drop=True)"
   ]
  },
  {
   "cell_type": "code",
   "execution_count": 10,
   "metadata": {},
   "outputs": [
    {
     "output_type": "stream",
     "name": "stdout",
     "text": [
      "Null data: \nid              0\nqid1            0\nqid2            0\nquestion1       0\nquestion2       0\nis_duplicate    0\ndtype: int64\n\nWhich index is null: \n(array([], dtype=int64), array([], dtype=int64))\n"
     ]
    }
   ],
   "source": [
    "print(f'Null data: \\n{df.isnull().sum()}\\n')\n",
    "print('Which index is null: \\n{}'.format(np.where(df.isnull())))"
   ]
  },
  {
   "cell_type": "code",
   "execution_count": 11,
   "metadata": {},
   "outputs": [
    {
     "output_type": "stream",
     "name": "stdout",
     "text": [
      "Total data: \n404287\n\n"
     ]
    }
   ],
   "source": [
    "print(f'Total data: \\n{len(df)}\\n')"
   ]
  },
  {
   "cell_type": "code",
   "execution_count": 25,
   "metadata": {},
   "outputs": [],
   "source": [
    "bpe_path = f'BPE/'\n",
    "if not os.path.exists(bpe_path):\n",
    "    os.makedirs(bpe_path)\n",
    "f = open(bpe_path + '/tokenized.txt', 'w', encoding='utf-8')\n",
    "for i in df.question1.to_list() + df.question2.to_list():\n",
    "    f.write(i)\n",
    "    f.write('\\n')\n",
    "f.close()"
   ]
  },
  {
   "cell_type": "code",
   "execution_count": 27,
   "metadata": {},
   "outputs": [],
   "source": [
    "tokenizer = BertWordPieceTokenizer()"
   ]
  },
  {
   "cell_type": "code",
   "execution_count": 30,
   "metadata": {},
   "outputs": [],
   "source": [
    "tokenizer.train(bpe_path + '/tokenized.txt', vocab_size=30000)"
   ]
  },
  {
   "cell_type": "code",
   "execution_count": 32,
   "metadata": {},
   "outputs": [
    {
     "output_type": "execute_result",
     "data": {
      "text/plain": [
       "['BPE/vocab.txt']"
      ]
     },
     "metadata": {},
     "execution_count": 32
    }
   ],
   "source": [
    "tokenizer.save_model(bpe_path)"
   ]
  },
  {
   "cell_type": "code",
   "execution_count": 42,
   "metadata": {},
   "outputs": [],
   "source": [
    "test = BertWordPieceTokenizer(bpe_path + '/vocab.txt')"
   ]
  },
  {
   "cell_type": "code",
   "execution_count": 40,
   "metadata": {},
   "outputs": [
    {
     "output_type": "execute_result",
     "data": {
      "text/plain": [
       "['[CLS]', 'i', \"'\", 'am', 'crazy', 'man', '!', '!', '!', '[SEP]']"
      ]
     },
     "metadata": {},
     "execution_count": 40
    }
   ],
   "source": [
    "test.encode(\"I'am Crazy Man!!!\").tokens"
   ]
  },
  {
   "cell_type": "code",
   "execution_count": 41,
   "metadata": {},
   "outputs": [
    {
     "output_type": "execute_result",
     "data": {
      "text/plain": [
       "[2, 51, 11, 1563, 6924, 1588, 5, 5, 5, 3]"
      ]
     },
     "metadata": {},
     "execution_count": 41
    }
   ],
   "source": [
    "test.encode(\"I'am Crazy Man!!!\").ids"
   ]
  }
 ]
}